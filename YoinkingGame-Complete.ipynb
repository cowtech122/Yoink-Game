{
 "cells": [
  {
   "cell_type": "code",
   "execution_count": 18,
   "id": "74c17062-3744-4d75-970c-c3da6f49280e",
   "metadata": {},
   "outputs": [
    {
     "name": "stdin",
     "output_type": "stream",
     "text": [
      "Do you want to be a guy or cheetah? cheetah\n"
     ]
    },
    {
     "name": "stdout",
     "output_type": "stream",
     "text": [
      "You have chosen cheetah who has catch +5, 4 misses, and 1 bait.\n",
      "You have found a gecko!\n"
     ]
    },
    {
     "name": "stdin",
     "output_type": "stream",
     "text": [
      "Do you want to yoink? [y/n/bait] y\n"
     ]
    },
    {
     "name": "stdout",
     "output_type": "stream",
     "text": [
      "You successfully yoinked the gecko!\n",
      "You have found a hedgehog!\n"
     ]
    },
    {
     "name": "stdin",
     "output_type": "stream",
     "text": [
      "Do you want to yoink? [y/n/bait] y\n"
     ]
    },
    {
     "name": "stdout",
     "output_type": "stream",
     "text": [
      "You missed the yoink, the hedgehog got away. You have 3 attempts left.\n",
      "You have found a gecko!\n"
     ]
    },
    {
     "name": "stdin",
     "output_type": "stream",
     "text": [
      "Do you want to yoink? [y/n/bait] y\n"
     ]
    },
    {
     "name": "stdout",
     "output_type": "stream",
     "text": [
      "You successfully yoinked the gecko!\n",
      "You have found a alligator!\n"
     ]
    },
    {
     "name": "stdin",
     "output_type": "stream",
     "text": [
      "Do you want to yoink? [y/n/bait] bait\n"
     ]
    },
    {
     "name": "stdout",
     "output_type": "stream",
     "text": [
      "You successfully yoinked the alligator!\n",
      "You are out of bait.\n",
      "You have found a monkey!\n"
     ]
    },
    {
     "name": "stdin",
     "output_type": "stream",
     "text": [
      "Do you want to yoink? [y/n] t\n"
     ]
    },
    {
     "name": "stdout",
     "output_type": "stream",
     "text": [
      "You have found a alligator!\n"
     ]
    },
    {
     "name": "stdin",
     "output_type": "stream",
     "text": [
      "Do you want to yoink? [y/n] y\n"
     ]
    },
    {
     "name": "stdout",
     "output_type": "stream",
     "text": [
      "You missed the yoink, the alligator got away. You have 2 attempts left.\n",
      "You have found a gecko!\n"
     ]
    },
    {
     "name": "stdin",
     "output_type": "stream",
     "text": [
      "Do you want to yoink? [y/n] y\n"
     ]
    },
    {
     "name": "stdout",
     "output_type": "stream",
     "text": [
      "You successfully yoinked the gecko!\n",
      "You have found a snake!\n"
     ]
    },
    {
     "name": "stdin",
     "output_type": "stream",
     "text": [
      "Do you want to yoink? [y/n] y\n"
     ]
    },
    {
     "name": "stdout",
     "output_type": "stream",
     "text": [
      "You missed the yoink, the snake got away. You have 1 attempt left.\n",
      "You have found a monkey!\n"
     ]
    },
    {
     "name": "stdin",
     "output_type": "stream",
     "text": [
      "Do you want to yoink? [y/n] y\n"
     ]
    },
    {
     "name": "stdout",
     "output_type": "stream",
     "text": [
      "You missed the yoink, the monkey got away. You have 0 attempts left.\n",
      "You got tired from the yoinking and fell asleep. You have caught 4 animals: ['gecko', 'gecko', 'alligator', 'gecko'] for 129 points!\n"
     ]
    }
   ],
   "source": [
    "import random\n",
    "# print(random.randint(1,5))\n",
    "\n",
    "# Setting the class of the prey\n",
    "class Critter:\n",
    "  def __init__(self, name, difficulty):\n",
    "    self.name = name\n",
    "    self.difficulty = difficulty * 10 - 9\n",
    "    self.score = difficulty ** 2\n",
    "\n",
    "# Methods for catching a critter\n",
    "  def can_yoink(self):\n",
    "    global total_score\n",
    "    global collection\n",
    "    yoink_score = random.randint(1,100)\n",
    "    if yoink_score >= self.difficulty - pred.ability:\n",
    "      print('You successfully yoinked the {critter}!'.format(critter=self.name))\n",
    "      total_score += self.score\n",
    "      collection.append(self.name)\n",
    "    else:\n",
    "      pred.fingers -= 1\n",
    "      print(pred.bad_try())\n",
    "      \n",
    "  def use_bait(self):\n",
    "    global total_score\n",
    "    global collection\n",
    "    yoink_score = random.randint(1,100)\n",
    "    if yoink_score >= self.difficulty - pred.ability - 20:\n",
    "      print('You successfully yoinked the {critter}!'.format(critter=self.name))\n",
    "      total_score += self.score\n",
    "      collection.append(self.name)\n",
    "    else:\n",
    "      pred.fingers -= 1\n",
    "      print(pred.bad_try())\n",
    "\n",
    "\n",
    "# Setting a class of predator\n",
    "class Catcher:\n",
    "    def __init__(self, name, ability, fingers, bait = 1):\n",
    "        self.name = name\n",
    "        self.ability = ability\n",
    "        self.fingers = fingers\n",
    "        self.bait = bait\n",
    "\n",
    "    def __repr__(self):\n",
    "        return 'You have chosen {catcher} who has catch +{ability}, {chances} misses, and {bait} bait.'.format(catcher=self.name, ability=self.ability, chances=self.fingers, bait=self.bait)\n",
    "\n",
    "    def bad_try(self):\n",
    "        if self.name == 'guy':\n",
    "            if self.fingers != 1:\n",
    "               return 'You missed the yoink, the {critter} got one of your fingers. You have {numb} fingers left.'.format(critter=target.name, numb=self.fingers)\n",
    "            else:\n",
    "                return 'You missed the yoink, the {critter} got one of your fingers. You have {numb} finger left.'.format(critter=target.name, numb=self.fingers)\n",
    "        if pred.name == 'cheetah':\n",
    "            if self.fingers != 1:\n",
    "                return 'You missed the yoink, the {critter} got away. You have {numb} attempts left.'.format(critter=target.name, numb=self.fingers)\n",
    "            else:\n",
    "                return 'You missed the yoink, the {critter} got away. You have {numb} attempt left.'.format(critter=target.name, numb=self.fingers)\n",
    "\n",
    "      \n",
    "\n",
    "total_score = 0\n",
    "collection = []\n",
    "possibilities = ['worm', 'gecko', 'hedgehog', 'snake', 'monkey', 'alligator', 'T-rex']\n",
    "encounters = {'worm': 0, 'gecko': 4, 'hedgehog': 5, 'snake': 7, 'monkey': 8, 'alligator': 9, 'T-rex': 10}\n",
    "\n",
    "# choosing the predator\n",
    "while True:\n",
    "    selection = input('Do you want to be a guy or cheetah?')\n",
    "    if selection != 'guy' and selection != 'cheetah':\n",
    "        print('Please choose either guy or cheetah.')\n",
    "    else:\n",
    "        break\n",
    "\n",
    "if selection == 'guy':\n",
    "    pred = Catcher('guy', 0, 5)\n",
    "if selection == 'cheetah':\n",
    "    pred = Catcher('cheetah', 5, 4)\n",
    "print(repr(pred))\n",
    "\n",
    "# Game loop\n",
    "while pred.fingers > 0:\n",
    "  animal = possibilities[random.randint(0,6)]\n",
    "  print('You have found a {critter}!'.format(critter = animal))\n",
    "  target = Critter(animal, encounters[animal])\n",
    "  if pred.bait > 0:\n",
    "      choice = input('Do you want to yoink? [y/n/bait]')\n",
    "      if choice == 'n':\n",
    "          continue\n",
    "      elif choice == 'y':\n",
    "          target.can_yoink()\n",
    "      elif choice == 'bait':\n",
    "          target.use_bait()\n",
    "          pred.bait -= 1\n",
    "          if pred.bait == 0:\n",
    "              print('You are out of bait.')\n",
    "  else:\n",
    "      choice = input('Do you want to yoink? [y/n]')\n",
    "      if choice == 'n':\n",
    "          continue\n",
    "      elif choice == 'y':\n",
    "          target.can_yoink()\n",
    "\n",
    "# Endgame message:\n",
    "if pred.name == 'guy':\n",
    "    print('You ran out of yoinking fingers. You have caught {number} animals: {list} for {score} points!'.format(list=collection, score=total_score, number=len(collection)))\n",
    "if pred.name == 'cheetah':\n",
    "    print('You got tired from the yoinking and fell asleep. You have caught {number} animals: {list} for {score} points!'.format(list=collection, score=total_score, number=len(collection)))"
   ]
  },
  {
   "cell_type": "code",
   "execution_count": 2,
   "id": "88478424-be9f-4c63-a9bf-306a90a9840e",
   "metadata": {},
   "outputs": [],
   "source": [
    "# catching class (different catch rates and lives), bait(increase catch rate)"
   ]
  },
  {
   "cell_type": "code",
   "execution_count": null,
   "id": "b3de6f8c-9023-4676-8fbb-88bc66cb2c6e",
   "metadata": {},
   "outputs": [],
   "source": []
  }
 ],
 "metadata": {
  "kernelspec": {
   "display_name": "Python 3 (ipykernel)",
   "language": "python",
   "name": "python3"
  },
  "language_info": {
   "codemirror_mode": {
    "name": "ipython",
    "version": 3
   },
   "file_extension": ".py",
   "mimetype": "text/x-python",
   "name": "python",
   "nbconvert_exporter": "python",
   "pygments_lexer": "ipython3",
   "version": "3.12.4"
  }
 },
 "nbformat": 4,
 "nbformat_minor": 5
}
